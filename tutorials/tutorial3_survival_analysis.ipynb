{
  "cells": [
    {
      "cell_type": "markdown",
      "id": "97e2d93c",
      "metadata": {
        "id": "97e2d93c"
      },
      "source": [
        "# Tutorial 3: Generating static survival-analysis data\n",
        "\n",
        "__Survival analysis__ is a statistical method used to analyze data on the time it takes for an event of interest to occur. The event of interest is often called the \"failure\" or \"censoring\" event. Examples of failure events include death, disease onset, or equipment failure.\n",
        "\n",
        "Static survival analysis refers to a specific type of survival analysis in which all subjects in the study are followed for the same length of time. In other words, the study is \"static\" because there is no ongoing enrollment of new subjects and no ongoing follow-up of existing subjects. This means that all subjects have the same \"start\" and \"end\" times for their follow-up.\n",
        "\n",
        "In static survival analysis, the main goal is to estimate the probability of the failure event occurring at different time points.\n",
        "\n",
        "`synthcity` includes models targeting specific tabular modalities. One of the specific modalities is for generating survival-analysis data. The general-purpose models can also be used for this task.\n",
        "\n",
        "One significant difference compared to regular data is in the benchmarks. The downstream model performance is evaluated using the __C-Index__ and __Brier score__ metrics.\n",
        "\n",
        "The main requirement of survival-analysis generators is to use a `SurvivalAnalysisDataLoader` dataloader."
      ]
    },
    {
      "cell_type": "code",
      "execution_count": 1,
      "id": "1fbbef35",
      "metadata": {
        "id": "1fbbef35",
        "outputId": "494d5f68-09c4-43db-bf0b-8b65d1ee946a",
        "colab": {
          "base_uri": "https://localhost:8080/"
        }
      },
      "outputs": [
        {
          "output_type": "stream",
          "name": "stdout",
          "text": [
            "Requirement already satisfied: synthcity in /usr/local/lib/python3.11/dist-packages (0.2.12)\n",
            "Requirement already satisfied: importlib-metadata in /usr/local/lib/python3.11/dist-packages (from synthcity) (8.7.0)\n",
            "Requirement already satisfied: pandas>=2.1 in /usr/local/lib/python3.11/dist-packages (from synthcity) (2.2.2)\n",
            "Requirement already satisfied: torch<2.3,>=2.1 in /usr/local/lib/python3.11/dist-packages (from synthcity) (2.2.2)\n",
            "Requirement already satisfied: scikit-learn>=1.2 in /usr/local/lib/python3.11/dist-packages (from synthcity) (1.6.1)\n",
            "Requirement already satisfied: nflows>=0.14 in /usr/local/lib/python3.11/dist-packages (from synthcity) (0.14)\n",
            "Requirement already satisfied: numpy<2.0,>=1.20 in /usr/local/lib/python3.11/dist-packages (from synthcity) (1.26.4)\n",
            "Requirement already satisfied: lifelines<0.30.0,>=0.29.0 in /usr/local/lib/python3.11/dist-packages (from synthcity) (0.29.0)\n",
            "Requirement already satisfied: opacus>=1.3 in /usr/local/lib/python3.11/dist-packages (from synthcity) (1.5.4)\n",
            "Requirement already satisfied: networkx<3.0,>2.0 in /usr/local/lib/python3.11/dist-packages (from synthcity) (2.8.8)\n",
            "Requirement already satisfied: decaf-synthetic-data>=0.1.6 in /usr/local/lib/python3.11/dist-packages (from synthcity) (0.1.7)\n",
            "Requirement already satisfied: optuna>=3.1 in /usr/local/lib/python3.11/dist-packages (from synthcity) (4.4.0)\n",
            "Requirement already satisfied: shap in /usr/local/lib/python3.11/dist-packages (from synthcity) (0.48.0)\n",
            "Requirement already satisfied: tenacity in /usr/local/lib/python3.11/dist-packages (from synthcity) (8.5.0)\n",
            "Requirement already satisfied: tqdm in /usr/local/lib/python3.11/dist-packages (from synthcity) (4.67.1)\n",
            "Requirement already satisfied: loguru in /usr/local/lib/python3.11/dist-packages (from synthcity) (0.7.3)\n",
            "Requirement already satisfied: pydantic>=2.0 in /usr/local/lib/python3.11/dist-packages (from synthcity) (2.11.7)\n",
            "Requirement already satisfied: cloudpickle in /usr/local/lib/python3.11/dist-packages (from synthcity) (3.1.1)\n",
            "Requirement already satisfied: scipy in /usr/local/lib/python3.11/dist-packages (from synthcity) (1.16.0)\n",
            "Requirement already satisfied: xgboost<3.0.0 in /usr/local/lib/python3.11/dist-packages (from synthcity) (2.1.4)\n",
            "Requirement already satisfied: geomloss in /usr/local/lib/python3.11/dist-packages (from synthcity) (0.2.6)\n",
            "Requirement already satisfied: pgmpy<1.0 in /usr/local/lib/python3.11/dist-packages (from synthcity) (0.1.26)\n",
            "Requirement already satisfied: redis in /usr/local/lib/python3.11/dist-packages (from synthcity) (6.2.0)\n",
            "Requirement already satisfied: pycox in /usr/local/lib/python3.11/dist-packages (from synthcity) (0.3.0)\n",
            "Requirement already satisfied: xgbse>=0.3.1 in /usr/local/lib/python3.11/dist-packages (from synthcity) (0.3.3)\n",
            "Requirement already satisfied: pykeops in /usr/local/lib/python3.11/dist-packages (from synthcity) (2.3)\n",
            "Requirement already satisfied: fflows in /usr/local/lib/python3.11/dist-packages (from synthcity) (0.0.3)\n",
            "Requirement already satisfied: monai in /usr/local/lib/python3.11/dist-packages (from synthcity) (1.4.0)\n",
            "Requirement already satisfied: tsai in /usr/local/lib/python3.11/dist-packages (from synthcity) (0.4.0)\n",
            "Requirement already satisfied: be-great>=0.0.5 in /usr/local/lib/python3.11/dist-packages (from synthcity) (0.0.9)\n",
            "Requirement already satisfied: arfpy in /usr/local/lib/python3.11/dist-packages (from synthcity) (0.1.1)\n",
            "Requirement already satisfied: fastcore<1.8 in /usr/local/lib/python3.11/dist-packages (from synthcity) (1.7.29)\n",
            "Requirement already satisfied: fastai<2.8 in /usr/local/lib/python3.11/dist-packages (from synthcity) (2.7.19)\n",
            "Requirement already satisfied: datasets>=2.5.2 in /usr/local/lib/python3.11/dist-packages (from be-great>=0.0.5->synthcity) (2.14.4)\n",
            "Requirement already satisfied: transformers>=4.22.1 in /usr/local/lib/python3.11/dist-packages (from be-great>=0.0.5->synthcity) (4.53.2)\n",
            "Requirement already satisfied: accelerate>=0.20.1 in /usr/local/lib/python3.11/dist-packages (from be-great>=0.0.5->synthcity) (1.9.0)\n",
            "Requirement already satisfied: pytorch-lightning>=2.4 in /usr/local/lib/python3.11/dist-packages (from decaf-synthetic-data>=0.1.6->synthcity) (2.5.2)\n",
            "Requirement already satisfied: torchtext>=0.10 in /usr/local/lib/python3.11/dist-packages (from decaf-synthetic-data>=0.1.6->synthcity) (0.17.2)\n",
            "Requirement already satisfied: pip in /usr/local/lib/python3.11/dist-packages (from fastai<2.8->synthcity) (24.1.2)\n",
            "Requirement already satisfied: packaging in /usr/local/lib/python3.11/dist-packages (from fastai<2.8->synthcity) (25.0)\n",
            "Requirement already satisfied: fastdownload<2,>=0.0.5 in /usr/local/lib/python3.11/dist-packages (from fastai<2.8->synthcity) (0.0.7)\n",
            "Requirement already satisfied: torchvision>=0.11 in /usr/local/lib/python3.11/dist-packages (from fastai<2.8->synthcity) (0.17.2)\n",
            "Requirement already satisfied: matplotlib in /usr/local/lib/python3.11/dist-packages (from fastai<2.8->synthcity) (3.10.0)\n",
            "Requirement already satisfied: requests in /usr/local/lib/python3.11/dist-packages (from fastai<2.8->synthcity) (2.32.3)\n",
            "Requirement already satisfied: pyyaml in /usr/local/lib/python3.11/dist-packages (from fastai<2.8->synthcity) (6.0.2)\n",
            "Requirement already satisfied: fastprogress>=0.2.4 in /usr/local/lib/python3.11/dist-packages (from fastai<2.8->synthcity) (1.0.3)\n",
            "Requirement already satisfied: pillow>=9.0.0 in /usr/local/lib/python3.11/dist-packages (from fastai<2.8->synthcity) (11.3.0)\n",
            "Requirement already satisfied: spacy<4 in /usr/local/lib/python3.11/dist-packages (from fastai<2.8->synthcity) (3.8.7)\n",
            "Requirement already satisfied: autograd>=1.5 in /usr/local/lib/python3.11/dist-packages (from lifelines<0.30.0,>=0.29.0->synthcity) (1.8.0)\n",
            "Requirement already satisfied: autograd-gamma>=0.3 in /usr/local/lib/python3.11/dist-packages (from lifelines<0.30.0,>=0.29.0->synthcity) (0.5.0)\n",
            "Requirement already satisfied: formulaic>=0.2.2 in /usr/local/lib/python3.11/dist-packages (from lifelines<0.30.0,>=0.29.0->synthcity) (1.2.0)\n",
            "Requirement already satisfied: tensorboard in /usr/local/lib/python3.11/dist-packages (from nflows>=0.14->synthcity) (2.18.0)\n",
            "Requirement already satisfied: opt-einsum>=3.3.0 in /usr/local/lib/python3.11/dist-packages (from opacus>=1.3->synthcity) (3.4.0)\n",
            "Requirement already satisfied: alembic>=1.5.0 in /usr/local/lib/python3.11/dist-packages (from optuna>=3.1->synthcity) (1.16.4)\n",
            "Requirement already satisfied: colorlog in /usr/local/lib/python3.11/dist-packages (from optuna>=3.1->synthcity) (6.9.0)\n",
            "Requirement already satisfied: sqlalchemy>=1.4.2 in /usr/local/lib/python3.11/dist-packages (from optuna>=3.1->synthcity) (2.0.41)\n",
            "Requirement already satisfied: python-dateutil>=2.8.2 in /usr/local/lib/python3.11/dist-packages (from pandas>=2.1->synthcity) (2.9.0.post0)\n",
            "Requirement already satisfied: pytz>=2020.1 in /usr/local/lib/python3.11/dist-packages (from pandas>=2.1->synthcity) (2025.2)\n",
            "Requirement already satisfied: tzdata>=2022.7 in /usr/local/lib/python3.11/dist-packages (from pandas>=2.1->synthcity) (2025.2)\n",
            "Requirement already satisfied: pyparsing in /usr/local/lib/python3.11/dist-packages (from pgmpy<1.0->synthcity) (3.2.3)\n",
            "Requirement already satisfied: statsmodels in /usr/local/lib/python3.11/dist-packages (from pgmpy<1.0->synthcity) (0.14.5)\n",
            "Requirement already satisfied: joblib in /usr/local/lib/python3.11/dist-packages (from pgmpy<1.0->synthcity) (1.5.1)\n",
            "Requirement already satisfied: google-generativeai in /usr/local/lib/python3.11/dist-packages (from pgmpy<1.0->synthcity) (0.8.5)\n",
            "Requirement already satisfied: annotated-types>=0.6.0 in /usr/local/lib/python3.11/dist-packages (from pydantic>=2.0->synthcity) (0.7.0)\n",
            "Requirement already satisfied: pydantic-core==2.33.2 in /usr/local/lib/python3.11/dist-packages (from pydantic>=2.0->synthcity) (2.33.2)\n",
            "Requirement already satisfied: typing-extensions>=4.12.2 in /usr/local/lib/python3.11/dist-packages (from pydantic>=2.0->synthcity) (4.14.1)\n",
            "Requirement already satisfied: typing-inspection>=0.4.0 in /usr/local/lib/python3.11/dist-packages (from pydantic>=2.0->synthcity) (0.4.1)\n",
            "Requirement already satisfied: threadpoolctl>=3.1.0 in /usr/local/lib/python3.11/dist-packages (from scikit-learn>=1.2->synthcity) (3.6.0)\n",
            "Requirement already satisfied: filelock in /usr/local/lib/python3.11/dist-packages (from torch<2.3,>=2.1->synthcity) (3.18.0)\n",
            "Requirement already satisfied: sympy in /usr/local/lib/python3.11/dist-packages (from torch<2.3,>=2.1->synthcity) (1.13.1)\n",
            "Requirement already satisfied: jinja2 in /usr/local/lib/python3.11/dist-packages (from torch<2.3,>=2.1->synthcity) (3.1.6)\n",
            "Requirement already satisfied: fsspec in /usr/local/lib/python3.11/dist-packages (from torch<2.3,>=2.1->synthcity) (2025.7.0)\n",
            "Requirement already satisfied: nvidia-cuda-nvrtc-cu12==12.1.105 in /usr/local/lib/python3.11/dist-packages (from torch<2.3,>=2.1->synthcity) (12.1.105)\n",
            "Requirement already satisfied: nvidia-cuda-runtime-cu12==12.1.105 in /usr/local/lib/python3.11/dist-packages (from torch<2.3,>=2.1->synthcity) (12.1.105)\n",
            "Requirement already satisfied: nvidia-cuda-cupti-cu12==12.1.105 in /usr/local/lib/python3.11/dist-packages (from torch<2.3,>=2.1->synthcity) (12.1.105)\n",
            "Requirement already satisfied: nvidia-cudnn-cu12==8.9.2.26 in /usr/local/lib/python3.11/dist-packages (from torch<2.3,>=2.1->synthcity) (8.9.2.26)\n",
            "Requirement already satisfied: nvidia-cublas-cu12==12.1.3.1 in /usr/local/lib/python3.11/dist-packages (from torch<2.3,>=2.1->synthcity) (12.1.3.1)\n",
            "Requirement already satisfied: nvidia-cufft-cu12==11.0.2.54 in /usr/local/lib/python3.11/dist-packages (from torch<2.3,>=2.1->synthcity) (11.0.2.54)\n",
            "Requirement already satisfied: nvidia-curand-cu12==10.3.2.106 in /usr/local/lib/python3.11/dist-packages (from torch<2.3,>=2.1->synthcity) (10.3.2.106)\n",
            "Requirement already satisfied: nvidia-cusolver-cu12==11.4.5.107 in /usr/local/lib/python3.11/dist-packages (from torch<2.3,>=2.1->synthcity) (11.4.5.107)\n",
            "Requirement already satisfied: nvidia-cusparse-cu12==12.1.0.106 in /usr/local/lib/python3.11/dist-packages (from torch<2.3,>=2.1->synthcity) (12.1.0.106)\n",
            "Requirement already satisfied: nvidia-nccl-cu12==2.19.3 in /usr/local/lib/python3.11/dist-packages (from torch<2.3,>=2.1->synthcity) (2.19.3)\n",
            "Requirement already satisfied: nvidia-nvtx-cu12==12.1.105 in /usr/local/lib/python3.11/dist-packages (from torch<2.3,>=2.1->synthcity) (12.1.105)\n",
            "Requirement already satisfied: triton==2.2.0 in /usr/local/lib/python3.11/dist-packages (from torch<2.3,>=2.1->synthcity) (2.2.0)\n",
            "Requirement already satisfied: nvidia-nvjitlink-cu12 in /usr/local/lib/python3.11/dist-packages (from nvidia-cusolver-cu12==11.4.5.107->torch<2.3,>=2.1->synthcity) (12.5.82)\n",
            "Requirement already satisfied: zipp>=3.20 in /usr/local/lib/python3.11/dist-packages (from importlib-metadata->synthcity) (3.23.0)\n",
            "Requirement already satisfied: torchtuples>=0.2.0 in /usr/local/lib/python3.11/dist-packages (from pycox->synthcity) (0.2.2)\n",
            "Requirement already satisfied: feather-format>=0.4.0 in /usr/local/lib/python3.11/dist-packages (from pycox->synthcity) (0.4.1)\n",
            "Requirement already satisfied: h5py>=2.9.0 in /usr/local/lib/python3.11/dist-packages (from pycox->synthcity) (3.14.0)\n",
            "Requirement already satisfied: numba>=0.44 in /usr/local/lib/python3.11/dist-packages (from pycox->synthcity) (0.60.0)\n",
            "Requirement already satisfied: py7zr>=0.11.3 in /usr/local/lib/python3.11/dist-packages (from pycox->synthcity) (1.0.0)\n",
            "Requirement already satisfied: pybind11 in /usr/local/lib/python3.11/dist-packages (from pykeops->synthcity) (3.0.0)\n",
            "Requirement already satisfied: keopscore==2.3 in /usr/local/lib/python3.11/dist-packages (from pykeops->synthcity) (2.3)\n",
            "Requirement already satisfied: slicer==0.0.8 in /usr/local/lib/python3.11/dist-packages (from shap->synthcity) (0.0.8)\n",
            "Requirement already satisfied: pyts>=0.13.0 in /usr/local/lib/python3.11/dist-packages (from tsai->synthcity) (0.13.0)\n",
            "Requirement already satisfied: imbalanced-learn>=0.12.4 in /usr/local/lib/python3.11/dist-packages (from tsai->synthcity) (0.13.0)\n",
            "Requirement already satisfied: psutil>=6.1.0 in /usr/local/lib/python3.11/dist-packages (from tsai->synthcity) (7.0.0)\n",
            "Requirement already satisfied: huggingface_hub>=0.21.0 in /usr/local/lib/python3.11/dist-packages (from accelerate>=0.20.1->be-great>=0.0.5->synthcity) (0.33.4)\n",
            "Requirement already satisfied: safetensors>=0.4.3 in /usr/local/lib/python3.11/dist-packages (from accelerate>=0.20.1->be-great>=0.0.5->synthcity) (0.5.3)\n",
            "Requirement already satisfied: Mako in /usr/lib/python3/dist-packages (from alembic>=1.5.0->optuna>=3.1->synthcity) (1.1.3)\n",
            "Requirement already satisfied: pyarrow>=8.0.0 in /usr/local/lib/python3.11/dist-packages (from datasets>=2.5.2->be-great>=0.0.5->synthcity) (18.1.0)\n",
            "Requirement already satisfied: dill<0.3.8,>=0.3.0 in /usr/local/lib/python3.11/dist-packages (from datasets>=2.5.2->be-great>=0.0.5->synthcity) (0.3.7)\n",
            "Requirement already satisfied: xxhash in /usr/local/lib/python3.11/dist-packages (from datasets>=2.5.2->be-great>=0.0.5->synthcity) (3.5.0)\n",
            "Requirement already satisfied: multiprocess in /usr/local/lib/python3.11/dist-packages (from datasets>=2.5.2->be-great>=0.0.5->synthcity) (0.70.15)\n",
            "Requirement already satisfied: aiohttp in /usr/local/lib/python3.11/dist-packages (from datasets>=2.5.2->be-great>=0.0.5->synthcity) (3.11.15)\n",
            "Requirement already satisfied: interface-meta>=1.2.0 in /usr/local/lib/python3.11/dist-packages (from formulaic>=0.2.2->lifelines<0.30.0,>=0.29.0->synthcity) (1.3.0)\n",
            "Requirement already satisfied: narwhals>=1.17 in /usr/local/lib/python3.11/dist-packages (from formulaic>=0.2.2->lifelines<0.30.0,>=0.29.0->synthcity) (1.47.1)\n",
            "Requirement already satisfied: wrapt>=1.0 in /usr/local/lib/python3.11/dist-packages (from formulaic>=0.2.2->lifelines<0.30.0,>=0.29.0->synthcity) (1.17.2)\n",
            "Requirement already satisfied: sklearn-compat<1,>=0.1 in /usr/local/lib/python3.11/dist-packages (from imbalanced-learn>=0.12.4->tsai->synthcity) (0.1.3)\n",
            "Requirement already satisfied: contourpy>=1.0.1 in /usr/local/lib/python3.11/dist-packages (from matplotlib->fastai<2.8->synthcity) (1.3.2)\n",
            "Requirement already satisfied: cycler>=0.10 in /usr/local/lib/python3.11/dist-packages (from matplotlib->fastai<2.8->synthcity) (0.12.1)\n",
            "Requirement already satisfied: fonttools>=4.22.0 in /usr/local/lib/python3.11/dist-packages (from matplotlib->fastai<2.8->synthcity) (4.59.0)\n",
            "Requirement already satisfied: kiwisolver>=1.3.1 in /usr/local/lib/python3.11/dist-packages (from matplotlib->fastai<2.8->synthcity) (1.4.8)\n",
            "Requirement already satisfied: llvmlite<0.44,>=0.43.0dev0 in /usr/local/lib/python3.11/dist-packages (from numba>=0.44->pycox->synthcity) (0.43.0)\n",
            "Requirement already satisfied: texttable in /usr/local/lib/python3.11/dist-packages (from py7zr>=0.11.3->pycox->synthcity) (1.7.0)\n",
            "Requirement already satisfied: pycryptodomex>=3.20.0 in /usr/local/lib/python3.11/dist-packages (from py7zr>=0.11.3->pycox->synthcity) (3.23.0)\n",
            "Requirement already satisfied: brotli>=1.1.0 in /usr/local/lib/python3.11/dist-packages (from py7zr>=0.11.3->pycox->synthcity) (1.1.0)\n",
            "Requirement already satisfied: pyzstd>=0.16.1 in /usr/local/lib/python3.11/dist-packages (from py7zr>=0.11.3->pycox->synthcity) (0.17.0)\n",
            "Requirement already satisfied: pyppmd<1.3.0,>=1.1.0 in /usr/local/lib/python3.11/dist-packages (from py7zr>=0.11.3->pycox->synthcity) (1.2.0)\n",
            "Requirement already satisfied: pybcj<1.1.0,>=1.0.0 in /usr/local/lib/python3.11/dist-packages (from py7zr>=0.11.3->pycox->synthcity) (1.0.6)\n",
            "Requirement already satisfied: multivolumefile>=0.2.3 in /usr/local/lib/python3.11/dist-packages (from py7zr>=0.11.3->pycox->synthcity) (0.2.3)\n",
            "Requirement already satisfied: inflate64<1.1.0,>=1.0.0 in /usr/local/lib/python3.11/dist-packages (from py7zr>=0.11.3->pycox->synthcity) (1.0.3)\n",
            "Requirement already satisfied: six>=1.5 in /usr/local/lib/python3.11/dist-packages (from python-dateutil>=2.8.2->pandas>=2.1->synthcity) (1.17.0)\n",
            "Requirement already satisfied: torchmetrics>=0.7.0 in /usr/local/lib/python3.11/dist-packages (from pytorch-lightning>=2.4->decaf-synthetic-data>=0.1.6->synthcity) (1.7.4)\n",
            "Requirement already satisfied: lightning-utilities>=0.10.0 in /usr/local/lib/python3.11/dist-packages (from pytorch-lightning>=2.4->decaf-synthetic-data>=0.1.6->synthcity) (0.14.3)\n",
            "Requirement already satisfied: charset-normalizer<4,>=2 in /usr/local/lib/python3.11/dist-packages (from requests->fastai<2.8->synthcity) (3.4.2)\n",
            "Requirement already satisfied: idna<4,>=2.5 in /usr/local/lib/python3.11/dist-packages (from requests->fastai<2.8->synthcity) (3.10)\n",
            "Requirement already satisfied: urllib3<3,>=1.21.1 in /usr/local/lib/python3.11/dist-packages (from requests->fastai<2.8->synthcity) (2.5.0)\n",
            "Requirement already satisfied: certifi>=2017.4.17 in /usr/local/lib/python3.11/dist-packages (from requests->fastai<2.8->synthcity) (2025.7.14)\n",
            "Requirement already satisfied: spacy-legacy<3.1.0,>=3.0.11 in /usr/local/lib/python3.11/dist-packages (from spacy<4->fastai<2.8->synthcity) (3.0.12)\n",
            "Requirement already satisfied: spacy-loggers<2.0.0,>=1.0.0 in /usr/local/lib/python3.11/dist-packages (from spacy<4->fastai<2.8->synthcity) (1.0.5)\n",
            "Requirement already satisfied: murmurhash<1.1.0,>=0.28.0 in /usr/local/lib/python3.11/dist-packages (from spacy<4->fastai<2.8->synthcity) (1.0.13)\n",
            "Requirement already satisfied: cymem<2.1.0,>=2.0.2 in /usr/local/lib/python3.11/dist-packages (from spacy<4->fastai<2.8->synthcity) (2.0.11)\n",
            "Requirement already satisfied: preshed<3.1.0,>=3.0.2 in /usr/local/lib/python3.11/dist-packages (from spacy<4->fastai<2.8->synthcity) (3.0.10)\n",
            "Requirement already satisfied: thinc<8.4.0,>=8.3.4 in /usr/local/lib/python3.11/dist-packages (from spacy<4->fastai<2.8->synthcity) (8.3.4)\n",
            "Requirement already satisfied: wasabi<1.2.0,>=0.9.1 in /usr/local/lib/python3.11/dist-packages (from spacy<4->fastai<2.8->synthcity) (1.1.3)\n",
            "Requirement already satisfied: srsly<3.0.0,>=2.4.3 in /usr/local/lib/python3.11/dist-packages (from spacy<4->fastai<2.8->synthcity) (2.5.1)\n",
            "Requirement already satisfied: catalogue<2.1.0,>=2.0.6 in /usr/local/lib/python3.11/dist-packages (from spacy<4->fastai<2.8->synthcity) (2.0.10)\n",
            "Requirement already satisfied: weasel<0.5.0,>=0.1.0 in /usr/local/lib/python3.11/dist-packages (from spacy<4->fastai<2.8->synthcity) (0.4.1)\n",
            "Requirement already satisfied: typer<1.0.0,>=0.3.0 in /usr/local/lib/python3.11/dist-packages (from spacy<4->fastai<2.8->synthcity) (0.16.0)\n",
            "Requirement already satisfied: setuptools in /usr/local/lib/python3.11/dist-packages (from spacy<4->fastai<2.8->synthcity) (75.2.0)\n",
            "Requirement already satisfied: langcodes<4.0.0,>=3.2.0 in /usr/local/lib/python3.11/dist-packages (from spacy<4->fastai<2.8->synthcity) (3.5.0)\n",
            "Requirement already satisfied: greenlet>=1 in /usr/local/lib/python3.11/dist-packages (from sqlalchemy>=1.4.2->optuna>=3.1->synthcity) (3.2.3)\n",
            "Requirement already satisfied: regex!=2019.12.17 in /usr/local/lib/python3.11/dist-packages (from transformers>=4.22.1->be-great>=0.0.5->synthcity) (2024.11.6)\n",
            "Requirement already satisfied: tokenizers<0.22,>=0.21 in /usr/local/lib/python3.11/dist-packages (from transformers>=4.22.1->be-great>=0.0.5->synthcity) (0.21.2)\n",
            "Requirement already satisfied: google-ai-generativelanguage==0.6.15 in /usr/local/lib/python3.11/dist-packages (from google-generativeai->pgmpy<1.0->synthcity) (0.6.15)\n",
            "Requirement already satisfied: google-api-core in /usr/local/lib/python3.11/dist-packages (from google-generativeai->pgmpy<1.0->synthcity) (2.25.1)\n",
            "Requirement already satisfied: google-api-python-client in /usr/local/lib/python3.11/dist-packages (from google-generativeai->pgmpy<1.0->synthcity) (2.176.0)\n",
            "Requirement already satisfied: google-auth>=2.15.0 in /usr/local/lib/python3.11/dist-packages (from google-generativeai->pgmpy<1.0->synthcity) (2.38.0)\n",
            "Requirement already satisfied: protobuf in /usr/local/lib/python3.11/dist-packages (from google-generativeai->pgmpy<1.0->synthcity) (5.29.5)\n",
            "Requirement already satisfied: proto-plus<2.0.0dev,>=1.22.3 in /usr/local/lib/python3.11/dist-packages (from google-ai-generativelanguage==0.6.15->google-generativeai->pgmpy<1.0->synthcity) (1.26.1)\n",
            "Requirement already satisfied: MarkupSafe>=2.0 in /usr/local/lib/python3.11/dist-packages (from jinja2->torch<2.3,>=2.1->synthcity) (3.0.2)\n",
            "Requirement already satisfied: patsy>=0.5.6 in /usr/local/lib/python3.11/dist-packages (from statsmodels->pgmpy<1.0->synthcity) (1.0.1)\n",
            "Requirement already satisfied: mpmath<1.4,>=1.1.0 in /usr/local/lib/python3.11/dist-packages (from sympy->torch<2.3,>=2.1->synthcity) (1.3.0)\n",
            "Requirement already satisfied: absl-py>=0.4 in /usr/local/lib/python3.11/dist-packages (from tensorboard->nflows>=0.14->synthcity) (1.4.0)\n",
            "Requirement already satisfied: grpcio>=1.48.2 in /usr/local/lib/python3.11/dist-packages (from tensorboard->nflows>=0.14->synthcity) (1.73.1)\n",
            "Requirement already satisfied: markdown>=2.6.8 in /usr/local/lib/python3.11/dist-packages (from tensorboard->nflows>=0.14->synthcity) (3.8.2)\n",
            "Requirement already satisfied: tensorboard-data-server<0.8.0,>=0.7.0 in /usr/local/lib/python3.11/dist-packages (from tensorboard->nflows>=0.14->synthcity) (0.7.2)\n",
            "Requirement already satisfied: werkzeug>=1.0.1 in /usr/local/lib/python3.11/dist-packages (from tensorboard->nflows>=0.14->synthcity) (3.1.3)\n",
            "Requirement already satisfied: aiohappyeyeballs>=2.3.0 in /usr/local/lib/python3.11/dist-packages (from aiohttp->datasets>=2.5.2->be-great>=0.0.5->synthcity) (2.6.1)\n",
            "Requirement already satisfied: aiosignal>=1.1.2 in /usr/local/lib/python3.11/dist-packages (from aiohttp->datasets>=2.5.2->be-great>=0.0.5->synthcity) (1.4.0)\n",
            "Requirement already satisfied: attrs>=17.3.0 in /usr/local/lib/python3.11/dist-packages (from aiohttp->datasets>=2.5.2->be-great>=0.0.5->synthcity) (25.3.0)\n",
            "Requirement already satisfied: frozenlist>=1.1.1 in /usr/local/lib/python3.11/dist-packages (from aiohttp->datasets>=2.5.2->be-great>=0.0.5->synthcity) (1.7.0)\n",
            "Requirement already satisfied: multidict<7.0,>=4.5 in /usr/local/lib/python3.11/dist-packages (from aiohttp->datasets>=2.5.2->be-great>=0.0.5->synthcity) (6.6.3)\n",
            "Requirement already satisfied: propcache>=0.2.0 in /usr/local/lib/python3.11/dist-packages (from aiohttp->datasets>=2.5.2->be-great>=0.0.5->synthcity) (0.3.2)\n",
            "Requirement already satisfied: yarl<2.0,>=1.17.0 in /usr/local/lib/python3.11/dist-packages (from aiohttp->datasets>=2.5.2->be-great>=0.0.5->synthcity) (1.20.1)\n",
            "Requirement already satisfied: googleapis-common-protos<2.0.0,>=1.56.2 in /usr/local/lib/python3.11/dist-packages (from google-api-core->google-generativeai->pgmpy<1.0->synthcity) (1.70.0)\n",
            "Requirement already satisfied: cachetools<6.0,>=2.0.0 in /usr/local/lib/python3.11/dist-packages (from google-auth>=2.15.0->google-generativeai->pgmpy<1.0->synthcity) (5.5.2)\n",
            "Requirement already satisfied: pyasn1-modules>=0.2.1 in /usr/local/lib/python3.11/dist-packages (from google-auth>=2.15.0->google-generativeai->pgmpy<1.0->synthcity) (0.4.2)\n",
            "Requirement already satisfied: rsa<5,>=3.1.4 in /usr/local/lib/python3.11/dist-packages (from google-auth>=2.15.0->google-generativeai->pgmpy<1.0->synthcity) (4.9.1)\n",
            "Requirement already satisfied: hf-xet<2.0.0,>=1.1.2 in /usr/local/lib/python3.11/dist-packages (from huggingface_hub>=0.21.0->accelerate>=0.20.1->be-great>=0.0.5->synthcity) (1.1.5)\n",
            "Requirement already satisfied: language-data>=1.2 in /usr/local/lib/python3.11/dist-packages (from langcodes<4.0.0,>=3.2.0->spacy<4->fastai<2.8->synthcity) (1.3.0)\n",
            "Requirement already satisfied: blis<1.3.0,>=1.2.0 in /usr/local/lib/python3.11/dist-packages (from thinc<8.4.0,>=8.3.4->spacy<4->fastai<2.8->synthcity) (1.2.1)\n",
            "Requirement already satisfied: confection<1.0.0,>=0.0.1 in /usr/local/lib/python3.11/dist-packages (from thinc<8.4.0,>=8.3.4->spacy<4->fastai<2.8->synthcity) (0.1.5)\n",
            "Requirement already satisfied: click>=8.0.0 in /usr/local/lib/python3.11/dist-packages (from typer<1.0.0,>=0.3.0->spacy<4->fastai<2.8->synthcity) (8.2.1)\n",
            "Requirement already satisfied: shellingham>=1.3.0 in /usr/local/lib/python3.11/dist-packages (from typer<1.0.0,>=0.3.0->spacy<4->fastai<2.8->synthcity) (1.5.4)\n",
            "Requirement already satisfied: rich>=10.11.0 in /usr/local/lib/python3.11/dist-packages (from typer<1.0.0,>=0.3.0->spacy<4->fastai<2.8->synthcity) (13.9.4)\n",
            "Requirement already satisfied: cloudpathlib<1.0.0,>=0.7.0 in /usr/local/lib/python3.11/dist-packages (from weasel<0.5.0,>=0.1.0->spacy<4->fastai<2.8->synthcity) (0.21.1)\n",
            "Requirement already satisfied: smart-open<8.0.0,>=5.2.1 in /usr/local/lib/python3.11/dist-packages (from weasel<0.5.0,>=0.1.0->spacy<4->fastai<2.8->synthcity) (7.3.0.post1)\n",
            "Requirement already satisfied: httplib2<1.0.0,>=0.19.0 in /usr/local/lib/python3.11/dist-packages (from google-api-python-client->google-generativeai->pgmpy<1.0->synthcity) (0.22.0)\n",
            "Requirement already satisfied: google-auth-httplib2<1.0.0,>=0.2.0 in /usr/local/lib/python3.11/dist-packages (from google-api-python-client->google-generativeai->pgmpy<1.0->synthcity) (0.2.0)\n",
            "Requirement already satisfied: uritemplate<5,>=3.0.1 in /usr/local/lib/python3.11/dist-packages (from google-api-python-client->google-generativeai->pgmpy<1.0->synthcity) (4.2.0)\n",
            "Requirement already satisfied: grpcio-status<2.0.0,>=1.33.2 in /usr/local/lib/python3.11/dist-packages (from google-api-core[grpc]!=2.0.*,!=2.1.*,!=2.10.*,!=2.2.*,!=2.3.*,!=2.4.*,!=2.5.*,!=2.6.*,!=2.7.*,!=2.8.*,!=2.9.*,<3.0.0dev,>=1.34.1->google-ai-generativelanguage==0.6.15->google-generativeai->pgmpy<1.0->synthcity) (1.71.2)\n",
            "Requirement already satisfied: marisa-trie>=1.1.0 in /usr/local/lib/python3.11/dist-packages (from language-data>=1.2->langcodes<4.0.0,>=3.2.0->spacy<4->fastai<2.8->synthcity) (1.2.1)\n",
            "Requirement already satisfied: pyasn1<0.7.0,>=0.6.1 in /usr/local/lib/python3.11/dist-packages (from pyasn1-modules>=0.2.1->google-auth>=2.15.0->google-generativeai->pgmpy<1.0->synthcity) (0.6.1)\n",
            "Requirement already satisfied: markdown-it-py>=2.2.0 in /usr/local/lib/python3.11/dist-packages (from rich>=10.11.0->typer<1.0.0,>=0.3.0->spacy<4->fastai<2.8->synthcity) (3.0.0)\n",
            "Requirement already satisfied: pygments<3.0.0,>=2.13.0 in /usr/local/lib/python3.11/dist-packages (from rich>=10.11.0->typer<1.0.0,>=0.3.0->spacy<4->fastai<2.8->synthcity) (2.19.2)\n",
            "Requirement already satisfied: mdurl~=0.1 in /usr/local/lib/python3.11/dist-packages (from markdown-it-py>=2.2.0->rich>=10.11.0->typer<1.0.0,>=0.3.0->spacy<4->fastai<2.8->synthcity) (0.1.2)\n",
            "\u001b[33mWARNING: Skipping torchaudio as it is not installed.\u001b[0m\u001b[33m\n",
            "\u001b[0m\u001b[33mWARNING: Skipping torchdata as it is not installed.\u001b[0m\u001b[33m\n",
            "\u001b[0m"
          ]
        }
      ],
      "source": [
        "!pip install synthcity\n",
        "!pip uninstall -y torchaudio torchdata"
      ]
    },
    {
      "cell_type": "code",
      "execution_count": 2,
      "id": "696e0157",
      "metadata": {
        "scrolled": false,
        "id": "696e0157",
        "outputId": "793639b4-3176-4cb5-c595-e41618a80644",
        "colab": {
          "base_uri": "https://localhost:8080/",
          "height": 356
        }
      },
      "outputs": [
        {
          "output_type": "error",
          "ename": "AttributeError",
          "evalue": "module 'torch.nn' has no attribute 'RMSNorm'",
          "traceback": [
            "\u001b[0;31m---------------------------------------------------------------------------\u001b[0m",
            "\u001b[0;31mAttributeError\u001b[0m                            Traceback (most recent call last)",
            "\u001b[0;32m/tmp/ipython-input-2-1938206293.py\u001b[0m in \u001b[0;36m<cell line: 0>\u001b[0;34m()\u001b[0m\n\u001b[1;32m      5\u001b[0m \u001b[0;31m# synthcity absolute\u001b[0m\u001b[0;34m\u001b[0m\u001b[0;34m\u001b[0m\u001b[0m\n\u001b[1;32m      6\u001b[0m \u001b[0;32mimport\u001b[0m \u001b[0msynthcity\u001b[0m\u001b[0;34m.\u001b[0m\u001b[0mlogger\u001b[0m \u001b[0;32mas\u001b[0m \u001b[0mlog\u001b[0m\u001b[0;34m\u001b[0m\u001b[0;34m\u001b[0m\u001b[0m\n\u001b[0;32m----> 7\u001b[0;31m \u001b[0;32mfrom\u001b[0m \u001b[0msynthcity\u001b[0m\u001b[0;34m.\u001b[0m\u001b[0mplugins\u001b[0m \u001b[0;32mimport\u001b[0m \u001b[0mPlugins\u001b[0m\u001b[0;34m\u001b[0m\u001b[0;34m\u001b[0m\u001b[0m\n\u001b[0m\u001b[1;32m      8\u001b[0m \u001b[0;32mfrom\u001b[0m \u001b[0msynthcity\u001b[0m\u001b[0;34m.\u001b[0m\u001b[0mplugins\u001b[0m\u001b[0;34m.\u001b[0m\u001b[0mcore\u001b[0m\u001b[0;34m.\u001b[0m\u001b[0mdataloader\u001b[0m \u001b[0;32mimport\u001b[0m \u001b[0mSurvivalAnalysisDataLoader\u001b[0m\u001b[0;34m\u001b[0m\u001b[0;34m\u001b[0m\u001b[0m\n\u001b[1;32m      9\u001b[0m \u001b[0;34m\u001b[0m\u001b[0m\n",
            "\u001b[0;32m/usr/local/lib/python3.11/dist-packages/synthcity/plugins/__init__.py\u001b[0m in \u001b[0;36m<module>\u001b[0;34m\u001b[0m\n\u001b[1;32m      7\u001b[0m \u001b[0;34m\u001b[0m\u001b[0m\n\u001b[1;32m      8\u001b[0m \u001b[0;31m# synthcity absolute\u001b[0m\u001b[0;34m\u001b[0m\u001b[0;34m\u001b[0m\u001b[0m\n\u001b[0;32m----> 9\u001b[0;31m \u001b[0;32mfrom\u001b[0m \u001b[0msynthcity\u001b[0m\u001b[0;34m.\u001b[0m\u001b[0mplugins\u001b[0m\u001b[0;34m.\u001b[0m\u001b[0mcore\u001b[0m\u001b[0;34m.\u001b[0m\u001b[0mplugin\u001b[0m \u001b[0;32mimport\u001b[0m \u001b[0mPlugin\u001b[0m\u001b[0;34m,\u001b[0m \u001b[0mPluginLoader\u001b[0m  \u001b[0;31m# noqa: F401,E402\u001b[0m\u001b[0;34m\u001b[0m\u001b[0;34m\u001b[0m\u001b[0m\n\u001b[0m\u001b[1;32m     10\u001b[0m \u001b[0;34m\u001b[0m\u001b[0m\n\u001b[1;32m     11\u001b[0m def_categories = [\n",
            "\u001b[0;32m/usr/local/lib/python3.11/dist-packages/synthcity/plugins/core/plugin.py\u001b[0m in \u001b[0;36m<module>\u001b[0;34m\u001b[0m\n\u001b[1;32m     14\u001b[0m \u001b[0;31m# synthcity absolute\u001b[0m\u001b[0;34m\u001b[0m\u001b[0;34m\u001b[0m\u001b[0m\n\u001b[1;32m     15\u001b[0m \u001b[0;32mimport\u001b[0m \u001b[0msynthcity\u001b[0m\u001b[0;34m.\u001b[0m\u001b[0mlogger\u001b[0m \u001b[0;32mas\u001b[0m \u001b[0mlog\u001b[0m\u001b[0;34m\u001b[0m\u001b[0;34m\u001b[0m\u001b[0m\n\u001b[0;32m---> 16\u001b[0;31m \u001b[0;32mfrom\u001b[0m \u001b[0msynthcity\u001b[0m\u001b[0;34m.\u001b[0m\u001b[0mmetrics\u001b[0m\u001b[0;34m.\u001b[0m\u001b[0mplots\u001b[0m \u001b[0;32mimport\u001b[0m \u001b[0mplot_marginal_comparison\u001b[0m\u001b[0;34m,\u001b[0m \u001b[0mplot_tsne\u001b[0m\u001b[0;34m\u001b[0m\u001b[0;34m\u001b[0m\u001b[0m\n\u001b[0m\u001b[1;32m     17\u001b[0m \u001b[0;32mfrom\u001b[0m \u001b[0msynthcity\u001b[0m\u001b[0;34m.\u001b[0m\u001b[0mplugins\u001b[0m\u001b[0;34m.\u001b[0m\u001b[0mcore\u001b[0m\u001b[0;34m.\u001b[0m\u001b[0mconstraints\u001b[0m \u001b[0;32mimport\u001b[0m \u001b[0mConstraints\u001b[0m\u001b[0;34m\u001b[0m\u001b[0;34m\u001b[0m\u001b[0m\n\u001b[1;32m     18\u001b[0m from synthcity.plugins.core.dataloader import (\n",
            "\u001b[0;32m/usr/local/lib/python3.11/dist-packages/synthcity/metrics/__init__.py\u001b[0m in \u001b[0;36m<module>\u001b[0;34m\u001b[0m\n\u001b[1;32m      1\u001b[0m \u001b[0;31m# synthcity relative\u001b[0m\u001b[0;34m\u001b[0m\u001b[0;34m\u001b[0m\u001b[0m\n\u001b[0;32m----> 2\u001b[0;31m \u001b[0;32mfrom\u001b[0m \u001b[0;34m.\u001b[0m\u001b[0meval\u001b[0m \u001b[0;32mimport\u001b[0m \u001b[0mMetrics\u001b[0m  \u001b[0;31m# noqa: F401\u001b[0m\u001b[0;34m\u001b[0m\u001b[0;34m\u001b[0m\u001b[0m\n\u001b[0m\u001b[1;32m      3\u001b[0m \u001b[0;32mfrom\u001b[0m \u001b[0;34m.\u001b[0m\u001b[0mweighted_metrics\u001b[0m \u001b[0;32mimport\u001b[0m \u001b[0mWeightedMetrics\u001b[0m  \u001b[0;31m# noqa: F401\u001b[0m\u001b[0;34m\u001b[0m\u001b[0;34m\u001b[0m\u001b[0m\n",
            "\u001b[0;32m/usr/local/lib/python3.11/dist-packages/synthcity/metrics/eval.py\u001b[0m in \u001b[0;36m<module>\u001b[0;34m\u001b[0m\n\u001b[1;32m      8\u001b[0m \u001b[0;34m\u001b[0m\u001b[0m\n\u001b[1;32m      9\u001b[0m \u001b[0;31m# synthcity absolute\u001b[0m\u001b[0;34m\u001b[0m\u001b[0;34m\u001b[0m\u001b[0m\n\u001b[0;32m---> 10\u001b[0;31m from synthcity.plugins.core.dataloader import (\n\u001b[0m\u001b[1;32m     11\u001b[0m     \u001b[0mDataLoader\u001b[0m\u001b[0;34m,\u001b[0m\u001b[0;34m\u001b[0m\u001b[0;34m\u001b[0m\u001b[0m\n\u001b[1;32m     12\u001b[0m     \u001b[0mGenericDataLoader\u001b[0m\u001b[0;34m,\u001b[0m\u001b[0;34m\u001b[0m\u001b[0;34m\u001b[0m\u001b[0m\n",
            "\u001b[0;32m/usr/local/lib/python3.11/dist-packages/synthcity/plugins/core/dataloader.py\u001b[0m in \u001b[0;36m<module>\u001b[0;34m\u001b[0m\n\u001b[1;32m     20\u001b[0m \u001b[0;32mfrom\u001b[0m \u001b[0msynthcity\u001b[0m\u001b[0;34m.\u001b[0m\u001b[0mplugins\u001b[0m\u001b[0;34m.\u001b[0m\u001b[0mcore\u001b[0m\u001b[0;34m.\u001b[0m\u001b[0mmodels\u001b[0m\u001b[0;34m.\u001b[0m\u001b[0mfeature_encoder\u001b[0m \u001b[0;32mimport\u001b[0m \u001b[0mDatetimeEncoder\u001b[0m\u001b[0;34m\u001b[0m\u001b[0;34m\u001b[0m\u001b[0m\n\u001b[1;32m     21\u001b[0m \u001b[0;32mfrom\u001b[0m \u001b[0msynthcity\u001b[0m\u001b[0;34m.\u001b[0m\u001b[0mutils\u001b[0m\u001b[0;34m.\u001b[0m\u001b[0mcompression\u001b[0m \u001b[0;32mimport\u001b[0m \u001b[0mcompress_dataset\u001b[0m\u001b[0;34m,\u001b[0m \u001b[0mdecompress_dataset\u001b[0m\u001b[0;34m\u001b[0m\u001b[0;34m\u001b[0m\u001b[0m\n\u001b[0;32m---> 22\u001b[0;31m \u001b[0;32mfrom\u001b[0m \u001b[0msynthcity\u001b[0m\u001b[0;34m.\u001b[0m\u001b[0mutils\u001b[0m\u001b[0;34m.\u001b[0m\u001b[0mserialization\u001b[0m \u001b[0;32mimport\u001b[0m \u001b[0mdataframe_hash\u001b[0m\u001b[0;34m\u001b[0m\u001b[0;34m\u001b[0m\u001b[0m\n\u001b[0m\u001b[1;32m     23\u001b[0m \u001b[0;34m\u001b[0m\u001b[0m\n\u001b[1;32m     24\u001b[0m \u001b[0;34m\u001b[0m\u001b[0m\n",
            "\u001b[0;32m/usr/local/lib/python3.11/dist-packages/synthcity/utils/serialization.py\u001b[0m in \u001b[0;36m<module>\u001b[0;34m\u001b[0m\n\u001b[1;32m      7\u001b[0m \u001b[0;32mimport\u001b[0m \u001b[0mcloudpickle\u001b[0m\u001b[0;34m\u001b[0m\u001b[0;34m\u001b[0m\u001b[0m\n\u001b[1;32m      8\u001b[0m \u001b[0;32mimport\u001b[0m \u001b[0mpandas\u001b[0m \u001b[0;32mas\u001b[0m \u001b[0mpd\u001b[0m\u001b[0;34m\u001b[0m\u001b[0;34m\u001b[0m\u001b[0m\n\u001b[0;32m----> 9\u001b[0;31m \u001b[0;32mfrom\u001b[0m \u001b[0mopacus\u001b[0m \u001b[0;32mimport\u001b[0m \u001b[0mPrivacyEngine\u001b[0m\u001b[0;34m\u001b[0m\u001b[0;34m\u001b[0m\u001b[0m\n\u001b[0m\u001b[1;32m     10\u001b[0m \u001b[0;34m\u001b[0m\u001b[0m\n\u001b[1;32m     11\u001b[0m \u001b[0;31m# The list of plugins that are not simply loadable with cloudpickle\u001b[0m\u001b[0;34m\u001b[0m\u001b[0;34m\u001b[0m\u001b[0m\n",
            "\u001b[0;32m/usr/local/lib/python3.11/dist-packages/opacus/__init__.py\u001b[0m in \u001b[0;36m<module>\u001b[0;34m\u001b[0m\n\u001b[1;32m     15\u001b[0m \u001b[0;34m\u001b[0m\u001b[0m\n\u001b[1;32m     16\u001b[0m \u001b[0;32mfrom\u001b[0m \u001b[0;34m.\u001b[0m \u001b[0;32mimport\u001b[0m \u001b[0mutils\u001b[0m\u001b[0;34m\u001b[0m\u001b[0;34m\u001b[0m\u001b[0m\n\u001b[0;32m---> 17\u001b[0;31m \u001b[0;32mfrom\u001b[0m \u001b[0;34m.\u001b[0m\u001b[0mgrad_sample\u001b[0m \u001b[0;32mimport\u001b[0m \u001b[0mGradSampleModule\u001b[0m\u001b[0;34m,\u001b[0m \u001b[0mGradSampleModuleFastGradientClipping\u001b[0m\u001b[0;34m\u001b[0m\u001b[0;34m\u001b[0m\u001b[0m\n\u001b[0m\u001b[1;32m     18\u001b[0m \u001b[0;32mfrom\u001b[0m \u001b[0;34m.\u001b[0m\u001b[0mprivacy_engine\u001b[0m \u001b[0;32mimport\u001b[0m \u001b[0mPrivacyEngine\u001b[0m\u001b[0;34m\u001b[0m\u001b[0;34m\u001b[0m\u001b[0m\n\u001b[1;32m     19\u001b[0m \u001b[0;32mfrom\u001b[0m \u001b[0;34m.\u001b[0m\u001b[0mversion\u001b[0m \u001b[0;32mimport\u001b[0m \u001b[0m__version__\u001b[0m\u001b[0;34m\u001b[0m\u001b[0;34m\u001b[0m\u001b[0m\n",
            "\u001b[0;32m/usr/local/lib/python3.11/dist-packages/opacus/grad_sample/__init__.py\u001b[0m in \u001b[0;36m<module>\u001b[0;34m\u001b[0m\n\u001b[1;32m     30\u001b[0m \u001b[0;32mfrom\u001b[0m \u001b[0;34m.\u001b[0m\u001b[0mlayer_norm\u001b[0m \u001b[0;32mimport\u001b[0m \u001b[0mcompute_layer_norm_grad_sample\u001b[0m  \u001b[0;31m# noqa\u001b[0m\u001b[0;34m\u001b[0m\u001b[0;34m\u001b[0m\u001b[0m\n\u001b[1;32m     31\u001b[0m \u001b[0;32mfrom\u001b[0m \u001b[0;34m.\u001b[0m\u001b[0mlinear\u001b[0m \u001b[0;32mimport\u001b[0m \u001b[0mcompute_linear_grad_sample\u001b[0m  \u001b[0;31m# noqa\u001b[0m\u001b[0;34m\u001b[0m\u001b[0;34m\u001b[0m\u001b[0m\n\u001b[0;32m---> 32\u001b[0;31m \u001b[0;32mfrom\u001b[0m \u001b[0;34m.\u001b[0m\u001b[0mrms_norm\u001b[0m \u001b[0;32mimport\u001b[0m \u001b[0mcompute_rms_norm_grad_sample\u001b[0m  \u001b[0;31m# noqa\u001b[0m\u001b[0;34m\u001b[0m\u001b[0;34m\u001b[0m\u001b[0m\n\u001b[0m\u001b[1;32m     33\u001b[0m from .utils import (\n\u001b[1;32m     34\u001b[0m     \u001b[0mget_gsm_class\u001b[0m\u001b[0;34m,\u001b[0m\u001b[0;34m\u001b[0m\u001b[0;34m\u001b[0m\u001b[0m\n",
            "\u001b[0;32m/usr/local/lib/python3.11/dist-packages/opacus/grad_sample/rms_norm.py\u001b[0m in \u001b[0;36m<module>\u001b[0;34m\u001b[0m\n\u001b[1;32m     25\u001b[0m \u001b[0;34m\u001b[0m\u001b[0m\n\u001b[1;32m     26\u001b[0m \u001b[0;34m\u001b[0m\u001b[0m\n\u001b[0;32m---> 27\u001b[0;31m \u001b[0;34m@\u001b[0m\u001b[0mregister_grad_sampler\u001b[0m\u001b[0;34m(\u001b[0m\u001b[0mnn\u001b[0m\u001b[0;34m.\u001b[0m\u001b[0mRMSNorm\u001b[0m\u001b[0;34m)\u001b[0m\u001b[0;34m\u001b[0m\u001b[0;34m\u001b[0m\u001b[0m\n\u001b[0m\u001b[1;32m     28\u001b[0m def compute_rms_norm_grad_sample(\n\u001b[1;32m     29\u001b[0m     \u001b[0mlayer\u001b[0m\u001b[0;34m:\u001b[0m \u001b[0mnn\u001b[0m\u001b[0;34m.\u001b[0m\u001b[0mRMSNorm\u001b[0m\u001b[0;34m,\u001b[0m\u001b[0;34m\u001b[0m\u001b[0;34m\u001b[0m\u001b[0m\n",
            "\u001b[0;31mAttributeError\u001b[0m: module 'torch.nn' has no attribute 'RMSNorm'"
          ]
        }
      ],
      "source": [
        "# stdlib\n",
        "import sys\n",
        "import warnings\n",
        "\n",
        "# synthcity absolute\n",
        "import synthcity.logger as log\n",
        "from synthcity.plugins import Plugins\n",
        "from synthcity.plugins.core.dataloader import SurvivalAnalysisDataLoader\n",
        "\n",
        "log.add(sink=sys.stderr, level=\"INFO\")\n",
        "warnings.filterwarnings(\"ignore\")"
      ]
    },
    {
      "cell_type": "code",
      "source": [
        "import torch"
      ],
      "metadata": {
        "id": "ht3llYVo8vZd"
      },
      "id": "ht3llYVo8vZd",
      "execution_count": 4,
      "outputs": []
    },
    {
      "cell_type": "code",
      "source": [
        "print(torch.__version__)"
      ],
      "metadata": {
        "id": "1CS6pHRi80dN",
        "outputId": "3f68599e-616d-4fa5-b087-a44a0c616968",
        "colab": {
          "base_uri": "https://localhost:8080/"
        }
      },
      "id": "1CS6pHRi80dN",
      "execution_count": 7,
      "outputs": [
        {
          "output_type": "stream",
          "name": "stdout",
          "text": [
            "2.2.2+cu121\n"
          ]
        }
      ]
    },
    {
      "cell_type": "code",
      "execution_count": null,
      "id": "824a4685",
      "metadata": {
        "id": "824a4685"
      },
      "outputs": [],
      "source": [
        "# third party\n",
        "from pycox import datasets\n",
        "\n",
        "df = datasets.gbsg.read_df()\n",
        "df = df[df[\"duration\"] > 0]\n",
        "\n",
        "df"
      ]
    },
    {
      "cell_type": "code",
      "execution_count": null,
      "id": "51076cdc",
      "metadata": {
        "id": "51076cdc"
      },
      "outputs": [],
      "source": [
        "# Note: preprocessing data with OneHotEncoder or StandardScaler is not needed or recommended. Synthcity handles feature encoding and standardization internally.\n",
        "loader = SurvivalAnalysisDataLoader(\n",
        "    df,\n",
        "    target_column=\"event\",\n",
        "    time_to_event_column=\"duration\",\n",
        ")"
      ]
    },
    {
      "cell_type": "markdown",
      "id": "5c13c616",
      "metadata": {
        "id": "5c13c616"
      },
      "source": [
        "## List the available generative models"
      ]
    },
    {
      "cell_type": "code",
      "execution_count": null,
      "id": "70553275",
      "metadata": {
        "id": "70553275"
      },
      "outputs": [],
      "source": [
        "# synthcity absolute\n",
        "from synthcity.plugins import Plugins\n",
        "\n",
        "Plugins(categories=[\"generic\", \"survival_analysis\"]).list()"
      ]
    },
    {
      "cell_type": "markdown",
      "id": "4a3f2fe6",
      "metadata": {
        "id": "4a3f2fe6"
      },
      "source": [
        "## Load and train a generative model"
      ]
    },
    {
      "cell_type": "code",
      "execution_count": null,
      "id": "790ed0dd",
      "metadata": {
        "id": "790ed0dd"
      },
      "outputs": [],
      "source": [
        "# synthcity absolute\n",
        "from synthcity.plugins import Plugins\n",
        "\n",
        "syn_model = Plugins().get(\"survival_gan\")\n",
        "\n",
        "syn_model.fit(loader)"
      ]
    },
    {
      "cell_type": "markdown",
      "id": "574e1eeb",
      "metadata": {
        "id": "574e1eeb"
      },
      "source": [
        "## Generate new data using the model"
      ]
    },
    {
      "cell_type": "code",
      "execution_count": null,
      "id": "cc96a182",
      "metadata": {
        "id": "cc96a182"
      },
      "outputs": [],
      "source": [
        "syn_model.generate(count=10).dataframe()"
      ]
    },
    {
      "cell_type": "markdown",
      "id": "adf672a5",
      "metadata": {
        "id": "adf672a5"
      },
      "source": [
        "## Generate new data using a conditional\n",
        "\n",
        "We will use the `event` outcome to condition the data generation."
      ]
    },
    {
      "cell_type": "code",
      "execution_count": null,
      "id": "14bca1cd",
      "metadata": {
        "id": "14bca1cd"
      },
      "outputs": [],
      "source": [
        "# synthcity absolute\n",
        "from synthcity.plugins import Plugins\n",
        "\n",
        "syn_model = Plugins().get(\"survival_gan\")\n",
        "\n",
        "cond = df[\"event\"]\n",
        "\n",
        "syn_model.fit(loader, cond=cond)"
      ]
    },
    {
      "cell_type": "code",
      "execution_count": null,
      "id": "83064f94",
      "metadata": {
        "id": "83064f94"
      },
      "outputs": [],
      "source": [
        "import numpy as np\n",
        "\n",
        "count = 10\n",
        "syn_model.generate(count=count, cond=np.ones(count)).dataframe()"
      ]
    },
    {
      "cell_type": "markdown",
      "id": "f7e23af1",
      "metadata": {
        "id": "f7e23af1"
      },
      "source": [
        "## Serialization"
      ]
    },
    {
      "cell_type": "code",
      "execution_count": null,
      "id": "2af0ec17",
      "metadata": {
        "id": "2af0ec17"
      },
      "outputs": [],
      "source": [
        "# synthcity absolute\n",
        "from synthcity.utils.serialization import load, load_from_file, save, save_to_file\n",
        "\n",
        "buff = save(syn_model)\n",
        "\n",
        "type(buff)"
      ]
    },
    {
      "cell_type": "code",
      "execution_count": null,
      "id": "97705c18",
      "metadata": {
        "id": "97705c18"
      },
      "outputs": [],
      "source": [
        "reloaded = load(buff)\n",
        "\n",
        "reloaded.name()"
      ]
    },
    {
      "cell_type": "markdown",
      "id": "45ec9f15",
      "metadata": {
        "id": "45ec9f15"
      },
      "source": [
        "## Plot real-synthetic distributions\n",
        "\n",
        "Compared to the general case, the survival-analysis data includes KM plots for real and synthetic data."
      ]
    },
    {
      "cell_type": "code",
      "execution_count": null,
      "id": "e5d01567",
      "metadata": {
        "scrolled": false,
        "id": "e5d01567"
      },
      "outputs": [],
      "source": [
        "# third party\n",
        "import matplotlib.pyplot as plt\n",
        "\n",
        "syn_model.plot(plt, loader)\n",
        "\n",
        "plt.show()"
      ]
    },
    {
      "cell_type": "markdown",
      "id": "025fc04c",
      "metadata": {
        "id": "025fc04c"
      },
      "source": [
        "## Benchmarking metrics\n",
        "\n",
        "| **Metric**                                         | **Description**                                                                                                            |\n",
        "|----------------------------------------------------|----------------------------------------------------------------------------------------------------------------------------|\n",
        "| sanity.data\\_mismatch.score                        | Data types mismatch between the real//synthetic features                                                                   |\n",
        "| sanity.common\\_rows\\_proportion.score              | Real data copy-paste in the synthetic data                                                                                 |\n",
        "| sanity.nearest\\_syn\\_neighbor\\_distance.mean       | Computes the \\textless{}reduction\\textgreater{}(distance) from the real data to the closest neighbor in the synthetic data |\n",
        "| sanity.close\\_values\\_probability.score            | the probability of close values between the real and synthetic data.                                                       |\n",
        "| sanity.distant\\_values\\_probability.score          | the probability of distant values between the real and synthetic data.                                                     |\n",
        "| stats.jensenshannon\\_dist.marginal                 | the average Jensen-Shannon distance                                                                                        |\n",
        "| stats.chi\\_squared\\_test.marginal                  | the one-way chi-square test.                                                                                               |\n",
        "| stats.feature\\_corr.joint                          | the correlation/strength-of-association of features in data-set with both categorical and continuous features              |\n",
        "| stats.inv\\_kl\\_divergence.marginal                 | the average inverse of the Kullback–Leibler Divergence metric.                                                             |\n",
        "| stats.ks\\_test.marginal                            | the Kolmogorov-Smirnov test for goodness of fit.                                                                           |\n",
        "| stats.max\\_mean\\_discrepancy.joint                 | Empirical maximum mean discrepancy. The lower the result the more evidence that distributions are the same.                |\n",
        "| stats.prdc.precision                               | precision between the two manifolds                                                                                        |\n",
        "| stats.prdc.recall                                  | recall between the two manifolds                                                                                           |\n",
        "| stats.prdc.density                                 | density between the two manifolds                                                                                          |\n",
        "| stats.prdc.coverage                                | coverage between the two manifolds                                                                                         |\n",
        "| stats.alpha\\_precision.delta\\_precision\\_alpha\\_OC | Delta precision                                                                                                            |\n",
        "| stats.alpha\\_precision.delta\\_coverage\\_beta\\_OC   | Delta coverage                                                                                                             |\n",
        "| stats.alpha\\_precision.authenticity\\_OC            | Authetnticity                                                                                                              |\n",
        "| stats.survival\\_km\\_distance.optimism              | Kaplan-Meier distance between real-synthetic data                                                                          |\n",
        "| stats.survival\\_km\\_distance.abs\\_optimism         | Kaplan-Meier metrics absolute distance between real-syn data                                                               |\n",
        "| stats.survival\\_km\\_distance.sightedness           | Kaplan-Meier metrics distance on the temporal axis                                                                         |\n",
        "| performance.linear\\_model.gt.c\\_index              | Train on real, test on the test real data using CoxPH: C-Index                                                             |\n",
        "| performance.linear\\_model.gt.brier\\_score          | Train on real, test on the test real data using CoxPH: Brier score                                                         |\n",
        "| performance.linear\\_model.syn\\_id.c\\_index         | Train on synthetic, test on the train real data using CoxPH: C-Index                                                       |\n",
        "| performance.linear\\_model.syn\\_id.brier\\_score     | Train on synthetic, test on the train real data using CoxPH: Brier score                                                   |\n",
        "| performance.linear\\_model.syn\\_ood.c\\_index        | Train on synthetic, test on the test real data using CoxPH: C-Index                                                        |\n",
        "| performance.linear\\_model.syn\\_ood.brier\\_score    | Train on synthetic, test on the test real data using CoxPH: Brier score                                                    |\n",
        "| performance.mlp.gt.c\\_index                        | Train on real, test on the test real data using NN: C-Index                                                                |\n",
        "| performance.mlp.gt.brier\\_score                    | Train on real, test on the test real data using NN : Brier score                                                           |\n",
        "| performance.mlp.syn\\_id.c\\_index                   | Train on synthetic, test on the train real data using NN: C-Index                                                          |\n",
        "| performance.mlp.syn\\_id.brier\\_score               | Train on synthetic, test on the train real data using NN: Brier score                                                      |\n",
        "| performance.mlp.syn\\_ood.c\\_index                  | Train on synthetic, test on the test real data using NN: C-Index                                                           |\n",
        "| performance.mlp.syn\\_ood.brier\\_score              | Train on synthetic, test on the test real data using NN: Brier score                                                       |\n",
        "| performance.xgb.gt.c\\_index                        | Train on real, test on the test real data using XGB: C-Index                                                               |\n",
        "| performance.xgb.gt.brier\\_score                    | Train on real, test on the test real data using XGB : Brier score                                                          |\n",
        "| performance.xgb.syn\\_id.c\\_index                   | Train on synthetic, test on the train real data using XGB: C-Index                                                         |\n",
        "| performance.xgb.syn\\_id.brier\\_score               | Train on synthetic, test on the train real data using XGB: Brier score                                                     |\n",
        "| performance.xgb.syn\\_ood.c\\_index                  | Train on synthetic, test on the test real data using XGB: C-Index                                                          |\n",
        "| performance.xgb.syn\\_ood.brier\\_score              | Train on synthetic, test on the test real data using XGB: Brier score                                                      |\n",
        "| performance.feat\\_rank\\_distance.corr              | Correlation for the rank distances between the feature importance on real and synthetic data                               |\n",
        "| performance.feat\\_rank\\_distance.pvalue            | p-vale for the rank distances between the feature importance on real and synthetic data                                    |\n",
        "| detection.detection\\_xgb.mean                      | The average AUCROC score for detecting synthetic data using an XGBoost.                                                    |\n",
        "| detection.detection\\_mlp.mean                      | The average AUCROC score for detecting synthetic data using a NN.                                                          |\n",
        "| detection.detection\\_gmm.mean                      | The average AUCROC score for detecting synthetic data using a GMM.                                                         |\n",
        "| privacy.delta-presence.score                       | the maximum re-identification probability on the real dataset from the synthetic dataset.                                  |\n",
        "| privacy.k-anonymization.gt                         | the k-anon for the real data                                                                                               |\n",
        "| privacy.k-anonymization.syn                        | the k-anon for the synthetic data                                                                                          |\n",
        "| privacy.k-map.score                                | the minimum value k that satisfies the k-map rule.                                                                         |\n",
        "| privacy.distinct l-diversity.gt                    | the l-diversity for the real data                                                                                          |\n",
        "| privacy.distinct l-diversity.syn                   | the l-diversity for the synthetic data                                                                                     |\n",
        "| privacy.identifiability\\_score.score               | the re-identification score on the real dataset from the synthetic dataset.                                                |"
      ]
    },
    {
      "cell_type": "markdown",
      "id": "37db52b9",
      "metadata": {
        "id": "37db52b9"
      },
      "source": [
        "## Benchmark the quality of plugins\n",
        "\n",
        "For survival analysis, general purpose generators can be used as well."
      ]
    },
    {
      "cell_type": "code",
      "execution_count": null,
      "id": "dbda7d3b",
      "metadata": {
        "scrolled": false,
        "id": "dbda7d3b"
      },
      "outputs": [],
      "source": [
        "# synthcity absolute\n",
        "from synthcity.benchmark import Benchmarks\n",
        "\n",
        "score = Benchmarks.evaluate(\n",
        "    [(f\"test_{model}\", model, {}) for model in [\"adsgan\", \"survival_gan\", \"survae\"]],\n",
        "    loader,\n",
        "    synthetic_size=1000,\n",
        "    repeats=2,\n",
        "    task_type=\"survival_analysis\",\n",
        ")"
      ]
    },
    {
      "cell_type": "code",
      "execution_count": null,
      "id": "057a9004",
      "metadata": {
        "scrolled": false,
        "id": "057a9004"
      },
      "outputs": [],
      "source": [
        "Benchmarks.print(score)"
      ]
    },
    {
      "cell_type": "markdown",
      "id": "ea5abc50",
      "metadata": {
        "id": "ea5abc50"
      },
      "source": [
        "## Congratulations!\n",
        "\n",
        "Congratulations on completing this notebook tutorial! If you enjoyed this and would like to join the movement towards Machine learning and AI for medicine, you can do so in the following ways!\n",
        "\n",
        "### Star [Synthcity](https://github.com/vanderschaarlab/synthcity) on GitHub\n",
        "\n",
        "- The easiest way to help our community is just by starring the Repos! This helps raise awareness of the tools we're building.\n",
        "\n",
        "\n",
        "### Checkout other projects from vanderschaarlab\n",
        "- [HyperImpute](https://github.com/vanderschaarlab/hyperimpute)\n",
        "- [AutoPrognosis](https://github.com/vanderschaarlab/autoprognosis)\n"
      ]
    }
  ],
  "metadata": {
    "kernelspec": {
      "display_name": "Python 3 (ipykernel)",
      "language": "python",
      "name": "python3"
    },
    "language_info": {
      "codemirror_mode": {
        "name": "ipython",
        "version": 3
      },
      "file_extension": ".py",
      "mimetype": "text/x-python",
      "name": "python",
      "nbconvert_exporter": "python",
      "pygments_lexer": "ipython3",
      "version": "3.9.15"
    },
    "colab": {
      "provenance": []
    }
  },
  "nbformat": 4,
  "nbformat_minor": 5
}